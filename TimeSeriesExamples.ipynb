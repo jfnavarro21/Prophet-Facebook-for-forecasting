{
 "cells": [
  {
   "cell_type": "code",
   "execution_count": 2,
   "metadata": {},
   "outputs": [],
   "source": [
    "import scipy\n",
    "import numpy as np\n",
    "from numpy import log\n",
    "import matplotlib\n",
    "import matplotlib.pyplot as plt\n",
    "import pandas as pd\n",
    "from pandas import Series\n",
    "import statsmodels\n",
    "import sklearn\n",
    "from sklearn import metrics\n",
    "import statsmodels.tsa.ar_model as sta\n",
    "import statsmodels.tsa.stattools as ts\n",
    "from statsmodels.tsa.arima_model import ARIMA\n",
    "from statsmodels.tsa.stattools import adfuller\n",
    "from statsmodels.tsa.stattools import acf, pacf\n",
    "import statsmodels.api as sm\n",
    "from statsmodels.tsa.api import VAR, DynamicVAR\n",
    "import warnings\n",
    "warnings.filterwarnings(\"ignore\")"
   ]
  },
  {
   "cell_type": "code",
   "execution_count": null,
   "metadata": {
    "collapsed": true
   },
   "outputs": [],
   "source": [
    "data = pd.read_csv('TimeSeriesExamplesGasPrices.csv', index_col=0, parse_dates=True)\n",
    "print(data.head())"
   ]
  },
  {
   "cell_type": "code",
   "execution_count": null,
   "metadata": {
    "collapsed": true
   },
   "outputs": [],
   "source": [
    "data.plot(y='Gasoline')\n",
    "plt.ylabel('Price per Gallon')\n",
    "plt.show()"
   ]
  },
  {
   "cell_type": "code",
   "execution_count": null,
   "metadata": {
    "collapsed": true
   },
   "outputs": [],
   "source": [
    "# Transform all colunms of csv into time series objects"
   ]
  },
  {
   "cell_type": "code",
   "execution_count": null,
   "metadata": {
    "collapsed": true
   },
   "outputs": [],
   "source": [
    "# Testing stationarity by mean\n",
    "#ma = pd.rolling_mean(data, 12)\n",
    "ma = data.rolling(window=12, center=False).mean()\n",
    "# first 11 values should be NaN\n",
    "ma[10:15]"
   ]
  },
  {
   "cell_type": "code",
   "execution_count": null,
   "metadata": {
    "collapsed": true
   },
   "outputs": [],
   "source": [
    "# Testing stationarity by moving standard deviation\n",
    "msd = data.rolling(window=12).std()\n",
    "msd[10:15]"
   ]
  },
  {
   "cell_type": "code",
   "execution_count": null,
   "metadata": {
    "collapsed": true
   },
   "outputs": [],
   "source": [
    "# Plot the mean and standard deviation of only ONE column\n",
    "mean = plt.plot(ma.Gasoline, color='green', label='Rolling Moving Avg')\n",
    "std = plt.plot(msd.Gasoline, color='red', label='Rolling Standard Dev')\n",
    "plt.legend(loc='best')\n",
    "plt.title('Rolling Moving Avg and St Dev')\n",
    "plt.show(block=False)"
   ]
  },
  {
   "cell_type": "code",
   "execution_count": null,
   "metadata": {
    "collapsed": true
   },
   "outputs": [],
   "source": [
    "# Other ways to test stationarity\n",
    "# Augmented Dickey-Fuller Test\n",
    "# If reject H0, then it IS stationary\n",
    "dataseries = Series.from_csv('TimeSeriesExamplesGasPrices.csv', header=1)\n",
    "X = dataseries.values\n",
    "result = adfuller(X)\n",
    "print('ADF Statistic: %f' % result[0])\n",
    "print('p-value: %f' % result[1])\n",
    "print('Critical Values:')\n",
    "for key, value in result[4].items():\n",
    "    print('t%s: %.3f' % (key, value))\n",
    "# We cannot reject the null hypothesis    "
   ]
  },
  {
   "cell_type": "code",
   "execution_count": null,
   "metadata": {
    "collapsed": true
   },
   "outputs": [],
   "source": [
    "# difference the data\n",
    "diffX=dataseries.diff()\n",
    "plt.plot(diffX)\n",
    "plt.show()\n",
    "diffX=diffX[1:]\n",
    "diffX.head()\n",
    "# plot appears more stationary"
   ]
  },
  {
   "cell_type": "code",
   "execution_count": null,
   "metadata": {
    "collapsed": true
   },
   "outputs": [],
   "source": [
    "# ADF test for differnced data\n",
    "result = adfuller(diffX)\n",
    "print('ADF Statistic: %f' % result[0])\n",
    "print('p-value: %f' % result[1])\n",
    "for key, value in result[4].items():\n",
    "\tprint('\\t%s: %.3f' % (key, value))\n",
    "# We reject the null hypothesis, despite the fact that variance looks uneven"
   ]
  },
  {
   "cell_type": "code",
   "execution_count": null,
   "metadata": {
    "collapsed": true
   },
   "outputs": [],
   "source": [
    "logdiffX=(log(dataseries)).diff()[1:]\n",
    "plt.plot(logdiffX)\n",
    "plt.show()"
   ]
  },
  {
   "cell_type": "code",
   "execution_count": null,
   "metadata": {
    "collapsed": true
   },
   "outputs": [],
   "source": [
    "# ADF test for differenced log data, 1st element removed\n",
    "result = adfuller(logdiffX)\n",
    "print('ADF Statistic: %f' % result[0])\n",
    "print('p-value: %f' % result[1])\n",
    "for key, value in result[4].items():\n",
    "\tprint('\\t%s: %.3f' % (key, value))\n",
    "# We still reject the null hypothesis, The variance looks smoother after taking log"
   ]
  },
  {
   "cell_type": "code",
   "execution_count": null,
   "metadata": {
    "collapsed": true
   },
   "outputs": [],
   "source": [
    "# Try to find ARIMA parameters using ACF, PACF plots\n",
    "lag_acf = acf(logdiffX, nlags=20)\n",
    "lag_pacf = pacf(logdiffX, nlags=20, method='ols')"
   ]
  },
  {
   "cell_type": "code",
   "execution_count": null,
   "metadata": {
    "collapsed": true,
    "scrolled": true
   },
   "outputs": [],
   "source": [
    "# Plot acf\n",
    "#plt.subplot(121)\n",
    "plt.plot(lag_acf)\n",
    "plt.axhline(y=0,linestyle='--',color='gray')\n",
    "plt.axhline(y=-1.96/np.sqrt(len(logdiffX)),linestyle='--',color='gray')\n",
    "plt.axhline(y=1.96/np.sqrt(len(logdiffX)),linestyle='--',color='gray')\n",
    "plt.title('Autocorrelation Function')\n",
    "plt.show()"
   ]
  },
  {
   "cell_type": "code",
   "execution_count": null,
   "metadata": {
    "collapsed": true
   },
   "outputs": [],
   "source": [
    "# Plot pacf\n",
    "#plt.subplot(121)\n",
    "plt.plot(lag_pacf)\n",
    "plt.axhline(y=0,linestyle='--',color='gray')\n",
    "plt.axhline(y=-1.96/np.sqrt(len(logdiffX)),linestyle='--',color='gray')\n",
    "plt.axhline(y=1.96/np.sqrt(len(logdiffX)),linestyle='--',color='gray')\n",
    "plt.title('Partial Autocorrelation Function')\n",
    "plt.show()"
   ]
  },
  {
   "cell_type": "code",
   "execution_count": null,
   "metadata": {
    "collapsed": true
   },
   "outputs": [],
   "source": [
    "# using AR from statsmodels to get recommended order of AR process\n",
    "# Select best lag order for logdiff series    \n",
    "max_lag = 10\n",
    "mdl = sta.AR(logdiffX).fit(maxlag=max_lag, ic='aic', trend='nc')\n",
    "est_order = sta.AR(logdiffX).select_order(maxlag=max_lag, ic='aic', trend='nc')\n",
    "\n",
    "print('best estimated lag order = {}'.format(est_order))\n",
    "print(mdl.params)\n",
    "# This agrees with what ACF shows us"
   ]
  },
  {
   "cell_type": "markdown",
   "metadata": {},
   "source": [
    "## Using Grid Search to estimate best ARIMA parameters\n",
    "\n",
    "#### https://machinelearningmastery.com/grid-search-arima-hyperparameters-with-python/"
   ]
  },
  {
   "cell_type": "code",
   "execution_count": 84,
   "metadata": {
    "collapsed": true
   },
   "outputs": [],
   "source": [
    "# function to evalutate an ARIMA model for a given order(p,d,q)\n",
    "\n",
    "def evaluate_arima_model(X, arima_order):\n",
    "    # prepare training dataset\n",
    "    train_size = int(len(X) * 0.66)\n",
    "    train, test = X[0:train_size], X[train_size:]\n",
    "    history = [x for x in train]\n",
    "    # make predictions\n",
    "    predictions = list()\n",
    "    for t in range(len(test)):\n",
    "        model = ARIMA(history, order=arima_order)\n",
    "        model_fit = model.fit(disp=0)\n",
    "        yhat = model_fit.forecast()[0]\n",
    "        predictions.append(yhat)\n",
    "        history.append(test[t])\n",
    "    # calculate out of sample error\n",
    "    error = sklearn.metrics.mean_squared_error(test, predictions)\n",
    "    return error"
   ]
  },
  {
   "cell_type": "code",
   "execution_count": 85,
   "metadata": {
    "collapsed": true
   },
   "outputs": [],
   "source": [
    "# evaluate combinations of p, d and q values for an ARIMA model\n",
    "def evaluate_models(dataset, p_values, d_values, q_values):\n",
    "    dataset = dataset.astype('float32')\n",
    "    best_score, best_cfg = float(10^10), None\n",
    "    for p in p_values:\n",
    "        for d in d_values:\n",
    "            for q in q_values:\n",
    "                order = (p,d,q)\n",
    "                try:\n",
    "                    mse = evaluate_arima_model(dataset, order)\n",
    "                    if mse < best_score:\n",
    "                        best_score, best_cfg = mse, order\n",
    "                    print('ARIMA%s MSE=%.3f' % (order,mse))\n",
    "                except:\n",
    "                    continue\n",
    "    print('Best ARIMA%s MSE=%.3f' % (best_cfg, best_score))"
   ]
  },
  {
   "cell_type": "code",
   "execution_count": 87,
   "metadata": {},
   "outputs": [
    {
     "name": "stdout",
     "output_type": "stream",
     "text": [
      "ARIMA(0, 0, 0) MSE=2.006\n",
      "ARIMA(0, 0, 1) MSE=0.523\n",
      "ARIMA(0, 1, 0) MSE=0.004\n",
      "ARIMA(0, 1, 1) MSE=0.003\n",
      "ARIMA(0, 1, 2) MSE=0.003\n",
      "ARIMA(0, 2, 0) MSE=0.003\n",
      "ARIMA(0, 2, 1) MSE=0.003\n",
      "ARIMA(0, 2, 2) MSE=0.003\n",
      "ARIMA(1, 0, 0) MSE=0.004\n",
      "ARIMA(1, 1, 0) MSE=0.002\n",
      "ARIMA(1, 1, 1) MSE=0.002\n",
      "ARIMA(1, 1, 2) MSE=0.002\n",
      "ARIMA(1, 2, 0) MSE=0.003\n",
      "ARIMA(2, 1, 0) MSE=0.002\n",
      "ARIMA(2, 1, 1) MSE=0.002\n",
      "ARIMA(2, 1, 2) MSE=0.002\n",
      "ARIMA(2, 2, 0) MSE=0.003\n",
      "ARIMA(3, 1, 0) MSE=0.002\n",
      "ARIMA(3, 1, 1) MSE=0.002\n",
      "ARIMA(3, 1, 2) MSE=0.002\n",
      "ARIMA(3, 2, 0) MSE=0.003\n",
      "ARIMA(4, 1, 2) MSE=0.003\n",
      "ARIMA(4, 2, 0) MSE=0.003\n",
      "ARIMA(5, 1, 0) MSE=0.002\n",
      "ARIMA(5, 2, 0) MSE=0.003\n",
      "Best ARIMANone MSE=0.000\n"
     ]
    }
   ],
   "source": [
    "# set range of parameters to evaluate\n",
    "p_values = [0,1,2,3,4,5]\n",
    "d_values = range(0, 3)\n",
    "q_values = range(0, 3)\n",
    "#warnings.filterwarnings(\"ignore\")\n",
    "dataseries = Series.from_csv('TimeSeriesExamplesGasPrices.csv', header=1)\n",
    "evaluate_models(dataseries.values, p_values, d_values, q_values)"
   ]
  },
  {
   "cell_type": "code",
   "execution_count": null,
   "metadata": {
    "collapsed": true
   },
   "outputs": [],
   "source": [
    "# VAR Model\n",
    "vardata = Series.from_csv('TimeSeriesExamplesBirthsVar.csv', header=1)\n",
    "vardata.head()\n",
    "# first diffence the data\n",
    "vardatadiff = diff(vardata)\n",
    "# check for stationarity\n",
    "result = adfuller(vardatadiff)\n",
    "print('ADF Statistic: %f' % result[0])\n",
    "print('p-value: %f' % result[1])\n",
    "print('Critical Values:')\n",
    "for key, value in result[4].items():\n",
    "    print('t%s: %.3f' % (key, value))"
   ]
  },
  {
   "cell_type": "code",
   "execution_count": null,
   "metadata": {
    "collapsed": true
   },
   "outputs": [],
   "source": [
    "# build VAR model\n",
    "varmdl=VAR(vardatadiff)"
   ]
  },
  {
   "cell_type": "code",
   "execution_count": null,
   "metadata": {
    "collapsed": true
   },
   "outputs": [],
   "source": [
    "# select the lag order, 2?\n",
    "results = varmdl.fit(2)\n",
    "results.summary()"
   ]
  },
  {
   "cell_type": "code",
   "execution_count": null,
   "metadata": {
    "collapsed": true
   },
   "outputs": [],
   "source": [
    "results.plot()"
   ]
  },
  {
   "cell_type": "code",
   "execution_count": null,
   "metadata": {
    "collapsed": true
   },
   "outputs": [],
   "source": [
    " results.plot_acorr()"
   ]
  },
  {
   "cell_type": "code",
   "execution_count": null,
   "metadata": {
    "collapsed": true
   },
   "outputs": [],
   "source": [
    "varmdl.select_order(15)"
   ]
  },
  {
   "cell_type": "code",
   "execution_count": null,
   "metadata": {
    "collapsed": true
   },
   "outputs": [],
   "source": [
    "# fit using order criterion\n",
    "results = model.fit(maxlags=15, ic='aic')"
   ]
  },
  {
   "cell_type": "code",
   "execution_count": null,
   "metadata": {
    "collapsed": true
   },
   "outputs": [],
   "source": [
    "# Forecasting\n",
    "lag_order = results.k_ar\n",
    "results.forecast(data.values[-lag_order:], 5)\n",
    "results.plot_forecast(10)"
   ]
  }
 ],
 "metadata": {
  "kernelspec": {
   "display_name": "Python 3",
   "language": "python",
   "name": "python3"
  },
  "language_info": {
   "codemirror_mode": {
    "name": "ipython",
    "version": 3
   },
   "file_extension": ".py",
   "mimetype": "text/x-python",
   "name": "python",
   "nbconvert_exporter": "python",
   "pygments_lexer": "ipython3",
   "version": "3.6.3"
  }
 },
 "nbformat": 4,
 "nbformat_minor": 2
}
